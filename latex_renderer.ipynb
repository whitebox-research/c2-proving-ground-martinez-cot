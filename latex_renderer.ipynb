{
 "cells": [
  {
   "cell_type": "code",
   "execution_count": 1,
   "metadata": {},
   "outputs": [],
   "source": [
    "import os\n",
    "import yaml\n",
    "import plotly.graph_objects as go\n",
    "import plotly.io as pio"
   ]
  },
  {
   "cell_type": "code",
   "execution_count": 6,
   "metadata": {},
   "outputs": [],
   "source": [
    "def render_latex_plotly(latex_str: str, output_base: str,\n",
    "                        width: int = 800, height: int = 200, font_size: int = 24):\n",
    "    \"\"\"\n",
    "    Renders a LaTeX string using Plotly annotations and exports PNG + SVG via Kaleido.\n",
    "    \"\"\"\n",
    "    fig = go.Figure()\n",
    "    fig.add_annotation(\n",
    "        text=f\"$$\\n{latex_str}\\n$$\",\n",
    "        xref=\"paper\", yref=\"paper\",\n",
    "        x=0.5, y=0.5,\n",
    "        showarrow=False,\n",
    "        font=dict(size=font_size),\n",
    "    )\n",
    "    # fig.update_layout(\n",
    "    #     width=width, height=height,\n",
    "    #     margin=dict(l=0, r=0, t=0, b=0),\n",
    "    #     xaxis=dict(visible=False), yaxis=dict(visible=False),\n",
    "    # )\n",
    "    fig.show()\n",
    "    # os.makedirs(os.path.dirname(output_base), exist_ok=True)\n",
    "    # fig.write_image(f\"{output_base}.png\", format=\"png\", engine=\"kaleido\")\n",
    "    # fig.write_image(f\"{output_base}.svg\", format=\"svg\", engine=\"kaleido\")"
   ]
  },
  {
   "cell_type": "code",
   "execution_count": 7,
   "metadata": {},
   "outputs": [],
   "source": [
    "yaml_path = \"minimal_fork_of_putnambench_with_clear_answers.yaml\""
   ]
  },
  {
   "cell_type": "code",
   "execution_count": 8,
   "metadata": {},
   "outputs": [],
   "source": [
    "# 1) load YAML\n",
    "with open(yaml_path, \"r\") as f:\n",
    "    problems = yaml.safe_load(f)\n",
    "\n",
    "# 2) process each entry\n",
    "# for item in problems:\n",
    "#     name = item[\"problem_name\"]\n",
    "#     stmt = item[\"informal_statement\"]\n",
    "#     # if you only want the math between \\[...\\], you can extract via regex:\n",
    "#     # import re\n",
    "#     # exprs = re.findall(r\"\\\\\\[(.*?)\\\\\\]\", stmt, re.DOTALL)\n",
    "#     # latex_to_render = \"\\n\\n\".join(exprs) if exprs else stmt\n",
    "\n",
    "#     # here we render the full statement (text + math)\n",
    "#     output_base = os.path.join(out_dir, name + \"_stmt\")\n",
    "#     render_latex_plotly(stmt, output_base)"
   ]
  },
  {
   "cell_type": "code",
   "execution_count": 9,
   "metadata": {},
   "outputs": [
    {
     "data": {
      "application/vnd.plotly.v1+json": {
       "config": {
        "plotlyServerURL": "https://plot.ly"
       },
       "data": [],
       "layout": {
        "annotations": [
         {
          "font": {
           "size": 24
          },
          "showarrow": false,
          "text": "$$\nFind every real-valued function $f$ whose domain is an interval $I$ (finite or infinite) having 0 as a left-hand endpoint, such that for every positive member $x$ of $I$ the average of $f$ over the closed interval $[0, x]$ is equal to the geometric mean of the numbers $f(0)$ and $f(x)$.\n$$",
          "x": 0.5,
          "xref": "paper",
          "y": 0.5,
          "yref": "paper"
         }
        ],
        "template": {
         "data": {
          "bar": [
           {
            "error_x": {
             "color": "#2a3f5f"
            },
            "error_y": {
             "color": "#2a3f5f"
            },
            "marker": {
             "line": {
              "color": "#E5ECF6",
              "width": 0.5
             },
             "pattern": {
              "fillmode": "overlay",
              "size": 10,
              "solidity": 0.2
             }
            },
            "type": "bar"
           }
          ],
          "barpolar": [
           {
            "marker": {
             "line": {
              "color": "#E5ECF6",
              "width": 0.5
             },
             "pattern": {
              "fillmode": "overlay",
              "size": 10,
              "solidity": 0.2
             }
            },
            "type": "barpolar"
           }
          ],
          "carpet": [
           {
            "aaxis": {
             "endlinecolor": "#2a3f5f",
             "gridcolor": "white",
             "linecolor": "white",
             "minorgridcolor": "white",
             "startlinecolor": "#2a3f5f"
            },
            "baxis": {
             "endlinecolor": "#2a3f5f",
             "gridcolor": "white",
             "linecolor": "white",
             "minorgridcolor": "white",
             "startlinecolor": "#2a3f5f"
            },
            "type": "carpet"
           }
          ],
          "choropleth": [
           {
            "colorbar": {
             "outlinewidth": 0,
             "ticks": ""
            },
            "type": "choropleth"
           }
          ],
          "contour": [
           {
            "colorbar": {
             "outlinewidth": 0,
             "ticks": ""
            },
            "colorscale": [
             [
              0,
              "#0d0887"
             ],
             [
              0.1111111111111111,
              "#46039f"
             ],
             [
              0.2222222222222222,
              "#7201a8"
             ],
             [
              0.3333333333333333,
              "#9c179e"
             ],
             [
              0.4444444444444444,
              "#bd3786"
             ],
             [
              0.5555555555555556,
              "#d8576b"
             ],
             [
              0.6666666666666666,
              "#ed7953"
             ],
             [
              0.7777777777777778,
              "#fb9f3a"
             ],
             [
              0.8888888888888888,
              "#fdca26"
             ],
             [
              1,
              "#f0f921"
             ]
            ],
            "type": "contour"
           }
          ],
          "contourcarpet": [
           {
            "colorbar": {
             "outlinewidth": 0,
             "ticks": ""
            },
            "type": "contourcarpet"
           }
          ],
          "heatmap": [
           {
            "colorbar": {
             "outlinewidth": 0,
             "ticks": ""
            },
            "colorscale": [
             [
              0,
              "#0d0887"
             ],
             [
              0.1111111111111111,
              "#46039f"
             ],
             [
              0.2222222222222222,
              "#7201a8"
             ],
             [
              0.3333333333333333,
              "#9c179e"
             ],
             [
              0.4444444444444444,
              "#bd3786"
             ],
             [
              0.5555555555555556,
              "#d8576b"
             ],
             [
              0.6666666666666666,
              "#ed7953"
             ],
             [
              0.7777777777777778,
              "#fb9f3a"
             ],
             [
              0.8888888888888888,
              "#fdca26"
             ],
             [
              1,
              "#f0f921"
             ]
            ],
            "type": "heatmap"
           }
          ],
          "histogram": [
           {
            "marker": {
             "pattern": {
              "fillmode": "overlay",
              "size": 10,
              "solidity": 0.2
             }
            },
            "type": "histogram"
           }
          ],
          "histogram2d": [
           {
            "colorbar": {
             "outlinewidth": 0,
             "ticks": ""
            },
            "colorscale": [
             [
              0,
              "#0d0887"
             ],
             [
              0.1111111111111111,
              "#46039f"
             ],
             [
              0.2222222222222222,
              "#7201a8"
             ],
             [
              0.3333333333333333,
              "#9c179e"
             ],
             [
              0.4444444444444444,
              "#bd3786"
             ],
             [
              0.5555555555555556,
              "#d8576b"
             ],
             [
              0.6666666666666666,
              "#ed7953"
             ],
             [
              0.7777777777777778,
              "#fb9f3a"
             ],
             [
              0.8888888888888888,
              "#fdca26"
             ],
             [
              1,
              "#f0f921"
             ]
            ],
            "type": "histogram2d"
           }
          ],
          "histogram2dcontour": [
           {
            "colorbar": {
             "outlinewidth": 0,
             "ticks": ""
            },
            "colorscale": [
             [
              0,
              "#0d0887"
             ],
             [
              0.1111111111111111,
              "#46039f"
             ],
             [
              0.2222222222222222,
              "#7201a8"
             ],
             [
              0.3333333333333333,
              "#9c179e"
             ],
             [
              0.4444444444444444,
              "#bd3786"
             ],
             [
              0.5555555555555556,
              "#d8576b"
             ],
             [
              0.6666666666666666,
              "#ed7953"
             ],
             [
              0.7777777777777778,
              "#fb9f3a"
             ],
             [
              0.8888888888888888,
              "#fdca26"
             ],
             [
              1,
              "#f0f921"
             ]
            ],
            "type": "histogram2dcontour"
           }
          ],
          "mesh3d": [
           {
            "colorbar": {
             "outlinewidth": 0,
             "ticks": ""
            },
            "type": "mesh3d"
           }
          ],
          "parcoords": [
           {
            "line": {
             "colorbar": {
              "outlinewidth": 0,
              "ticks": ""
             }
            },
            "type": "parcoords"
           }
          ],
          "pie": [
           {
            "automargin": true,
            "type": "pie"
           }
          ],
          "scatter": [
           {
            "fillpattern": {
             "fillmode": "overlay",
             "size": 10,
             "solidity": 0.2
            },
            "type": "scatter"
           }
          ],
          "scatter3d": [
           {
            "line": {
             "colorbar": {
              "outlinewidth": 0,
              "ticks": ""
             }
            },
            "marker": {
             "colorbar": {
              "outlinewidth": 0,
              "ticks": ""
             }
            },
            "type": "scatter3d"
           }
          ],
          "scattercarpet": [
           {
            "marker": {
             "colorbar": {
              "outlinewidth": 0,
              "ticks": ""
             }
            },
            "type": "scattercarpet"
           }
          ],
          "scattergeo": [
           {
            "marker": {
             "colorbar": {
              "outlinewidth": 0,
              "ticks": ""
             }
            },
            "type": "scattergeo"
           }
          ],
          "scattergl": [
           {
            "marker": {
             "colorbar": {
              "outlinewidth": 0,
              "ticks": ""
             }
            },
            "type": "scattergl"
           }
          ],
          "scattermap": [
           {
            "marker": {
             "colorbar": {
              "outlinewidth": 0,
              "ticks": ""
             }
            },
            "type": "scattermap"
           }
          ],
          "scattermapbox": [
           {
            "marker": {
             "colorbar": {
              "outlinewidth": 0,
              "ticks": ""
             }
            },
            "type": "scattermapbox"
           }
          ],
          "scatterpolar": [
           {
            "marker": {
             "colorbar": {
              "outlinewidth": 0,
              "ticks": ""
             }
            },
            "type": "scatterpolar"
           }
          ],
          "scatterpolargl": [
           {
            "marker": {
             "colorbar": {
              "outlinewidth": 0,
              "ticks": ""
             }
            },
            "type": "scatterpolargl"
           }
          ],
          "scatterternary": [
           {
            "marker": {
             "colorbar": {
              "outlinewidth": 0,
              "ticks": ""
             }
            },
            "type": "scatterternary"
           }
          ],
          "surface": [
           {
            "colorbar": {
             "outlinewidth": 0,
             "ticks": ""
            },
            "colorscale": [
             [
              0,
              "#0d0887"
             ],
             [
              0.1111111111111111,
              "#46039f"
             ],
             [
              0.2222222222222222,
              "#7201a8"
             ],
             [
              0.3333333333333333,
              "#9c179e"
             ],
             [
              0.4444444444444444,
              "#bd3786"
             ],
             [
              0.5555555555555556,
              "#d8576b"
             ],
             [
              0.6666666666666666,
              "#ed7953"
             ],
             [
              0.7777777777777778,
              "#fb9f3a"
             ],
             [
              0.8888888888888888,
              "#fdca26"
             ],
             [
              1,
              "#f0f921"
             ]
            ],
            "type": "surface"
           }
          ],
          "table": [
           {
            "cells": {
             "fill": {
              "color": "#EBF0F8"
             },
             "line": {
              "color": "white"
             }
            },
            "header": {
             "fill": {
              "color": "#C8D4E3"
             },
             "line": {
              "color": "white"
             }
            },
            "type": "table"
           }
          ]
         },
         "layout": {
          "annotationdefaults": {
           "arrowcolor": "#2a3f5f",
           "arrowhead": 0,
           "arrowwidth": 1
          },
          "autotypenumbers": "strict",
          "coloraxis": {
           "colorbar": {
            "outlinewidth": 0,
            "ticks": ""
           }
          },
          "colorscale": {
           "diverging": [
            [
             0,
             "#8e0152"
            ],
            [
             0.1,
             "#c51b7d"
            ],
            [
             0.2,
             "#de77ae"
            ],
            [
             0.3,
             "#f1b6da"
            ],
            [
             0.4,
             "#fde0ef"
            ],
            [
             0.5,
             "#f7f7f7"
            ],
            [
             0.6,
             "#e6f5d0"
            ],
            [
             0.7,
             "#b8e186"
            ],
            [
             0.8,
             "#7fbc41"
            ],
            [
             0.9,
             "#4d9221"
            ],
            [
             1,
             "#276419"
            ]
           ],
           "sequential": [
            [
             0,
             "#0d0887"
            ],
            [
             0.1111111111111111,
             "#46039f"
            ],
            [
             0.2222222222222222,
             "#7201a8"
            ],
            [
             0.3333333333333333,
             "#9c179e"
            ],
            [
             0.4444444444444444,
             "#bd3786"
            ],
            [
             0.5555555555555556,
             "#d8576b"
            ],
            [
             0.6666666666666666,
             "#ed7953"
            ],
            [
             0.7777777777777778,
             "#fb9f3a"
            ],
            [
             0.8888888888888888,
             "#fdca26"
            ],
            [
             1,
             "#f0f921"
            ]
           ],
           "sequentialminus": [
            [
             0,
             "#0d0887"
            ],
            [
             0.1111111111111111,
             "#46039f"
            ],
            [
             0.2222222222222222,
             "#7201a8"
            ],
            [
             0.3333333333333333,
             "#9c179e"
            ],
            [
             0.4444444444444444,
             "#bd3786"
            ],
            [
             0.5555555555555556,
             "#d8576b"
            ],
            [
             0.6666666666666666,
             "#ed7953"
            ],
            [
             0.7777777777777778,
             "#fb9f3a"
            ],
            [
             0.8888888888888888,
             "#fdca26"
            ],
            [
             1,
             "#f0f921"
            ]
           ]
          },
          "colorway": [
           "#636efa",
           "#EF553B",
           "#00cc96",
           "#ab63fa",
           "#FFA15A",
           "#19d3f3",
           "#FF6692",
           "#B6E880",
           "#FF97FF",
           "#FECB52"
          ],
          "font": {
           "color": "#2a3f5f"
          },
          "geo": {
           "bgcolor": "white",
           "lakecolor": "white",
           "landcolor": "#E5ECF6",
           "showlakes": true,
           "showland": true,
           "subunitcolor": "white"
          },
          "hoverlabel": {
           "align": "left"
          },
          "hovermode": "closest",
          "mapbox": {
           "style": "light"
          },
          "paper_bgcolor": "white",
          "plot_bgcolor": "#E5ECF6",
          "polar": {
           "angularaxis": {
            "gridcolor": "white",
            "linecolor": "white",
            "ticks": ""
           },
           "bgcolor": "#E5ECF6",
           "radialaxis": {
            "gridcolor": "white",
            "linecolor": "white",
            "ticks": ""
           }
          },
          "scene": {
           "xaxis": {
            "backgroundcolor": "#E5ECF6",
            "gridcolor": "white",
            "gridwidth": 2,
            "linecolor": "white",
            "showbackground": true,
            "ticks": "",
            "zerolinecolor": "white"
           },
           "yaxis": {
            "backgroundcolor": "#E5ECF6",
            "gridcolor": "white",
            "gridwidth": 2,
            "linecolor": "white",
            "showbackground": true,
            "ticks": "",
            "zerolinecolor": "white"
           },
           "zaxis": {
            "backgroundcolor": "#E5ECF6",
            "gridcolor": "white",
            "gridwidth": 2,
            "linecolor": "white",
            "showbackground": true,
            "ticks": "",
            "zerolinecolor": "white"
           }
          },
          "shapedefaults": {
           "line": {
            "color": "#2a3f5f"
           }
          },
          "ternary": {
           "aaxis": {
            "gridcolor": "white",
            "linecolor": "white",
            "ticks": ""
           },
           "baxis": {
            "gridcolor": "white",
            "linecolor": "white",
            "ticks": ""
           },
           "bgcolor": "#E5ECF6",
           "caxis": {
            "gridcolor": "white",
            "linecolor": "white",
            "ticks": ""
           }
          },
          "title": {
           "x": 0.05
          },
          "xaxis": {
           "automargin": true,
           "gridcolor": "white",
           "linecolor": "white",
           "ticks": "",
           "title": {
            "standoff": 15
           },
           "zerolinecolor": "white",
           "zerolinewidth": 2
          },
          "yaxis": {
           "automargin": true,
           "gridcolor": "white",
           "linecolor": "white",
           "ticks": "",
           "title": {
            "standoff": 15
           },
           "zerolinecolor": "white",
           "zerolinewidth": 2
          }
         }
        }
       }
      }
     },
     "metadata": {},
     "output_type": "display_data"
    }
   ],
   "source": [
    "name = problems[0][\"problem_name\"]\n",
    "stmt = problems[0][\"informal_statement\"]\n",
    "output_base = os.path.join(\"putnam_problems_images\", name + \"_stmt\")\n",
    "render_latex_plotly(stmt, output_base)\n"
   ]
  },
  {
   "cell_type": "code",
   "execution_count": 1,
   "metadata": {},
   "outputs": [],
   "source": [
    "import asyncio\n",
    "import logging\n",
    "import os\n",
    "import uuid\n",
    "from pathlib import Path\n",
    "from typing import Any, Optional\n",
    "\n",
    "# import click\n",
    "import pandas as pd\n",
    "import yaml\n",
    "\n",
    "# from chainscope.api_utils.deepseek_utils import (\n",
    "#     DeepSeekBatchProcessor,\n",
    "#     DeepSeekRateLimiter,\n",
    "# )\n",
    "# from chainscope.api_utils.open_router_utils import ORBatchProcessor, ORRateLimiter\n",
    "from chainscope.typing import (\n",
    "    CotResponses,\n",
    "    DefaultSamplingParams,\n",
    "    MathDatasetParams,\n",
    "    MathQsDataset,\n",
    "    MathQuestion,\n",
    "    MathResponse,\n",
    ")\n",
    "\n",
    "import base64\n"
   ]
  },
  {
   "cell_type": "code",
   "execution_count": 2,
   "metadata": {},
   "outputs": [],
   "source": [
    "def load_putnam_results_as_df(yaml_path: Path) -> pd.DataFrame:\n",
    "    \"\"\"Load Putnam results from YAML into a pandas DataFrame.\"\"\"\n",
    "    with open(yaml_path) as f:\n",
    "        data = yaml.safe_load(f)\n",
    "    return pd.DataFrame(data)"
   ]
  },
  {
   "cell_type": "code",
   "execution_count": 4,
   "metadata": {},
   "outputs": [],
   "source": [
    "data_df = load_putnam_results_as_df(\"minimal_fork_of_putnambench_with_clear_answers.yaml\")"
   ]
  },
  {
   "cell_type": "code",
   "execution_count": 5,
   "metadata": {},
   "outputs": [
    {
     "data": {
      "text/html": [
       "<div>\n",
       "<style scoped>\n",
       "    .dataframe tbody tr th:only-of-type {\n",
       "        vertical-align: middle;\n",
       "    }\n",
       "\n",
       "    .dataframe tbody tr th {\n",
       "        vertical-align: top;\n",
       "    }\n",
       "\n",
       "    .dataframe thead th {\n",
       "        text-align: right;\n",
       "    }\n",
       "</style>\n",
       "<table border=\"1\" class=\"dataframe\">\n",
       "  <thead>\n",
       "    <tr style=\"text-align: right;\">\n",
       "      <th></th>\n",
       "      <th>problem_name</th>\n",
       "      <th>informal_statement</th>\n",
       "      <th>informal_solution</th>\n",
       "    </tr>\n",
       "  </thead>\n",
       "  <tbody>\n",
       "    <tr>\n",
       "      <th>0</th>\n",
       "      <td>putnam_1962_a2</td>\n",
       "      <td>Find every real-valued function $f$ whose doma...</td>\n",
       "      <td>Show that \\[ f(x) = \\frac{a}{(1 - cx)^2} \\begi...</td>\n",
       "    </tr>\n",
       "    <tr>\n",
       "      <th>1</th>\n",
       "      <td>putnam_1962_a5</td>\n",
       "      <td>Evaluate in closed form \\[ \\sum_{k=1}^n {n \\ch...</td>\n",
       "      <td>Show that the expression equals $n(n+1)2^{n-2}$.</td>\n",
       "    </tr>\n",
       "    <tr>\n",
       "      <th>2</th>\n",
       "      <td>putnam_1963_a3</td>\n",
       "      <td>Find an integral formula (i.e., a function $z$...</td>\n",
       "      <td>Show that the solution is $$y(x) = \\int_{1}^{x...</td>\n",
       "    </tr>\n",
       "    <tr>\n",
       "      <th>3</th>\n",
       "      <td>putnam_1963_b1</td>\n",
       "      <td>For what integer $a$ does $x^2-x+a$ divide $x^...</td>\n",
       "      <td>Show that $a=2$.</td>\n",
       "    </tr>\n",
       "    <tr>\n",
       "      <th>4</th>\n",
       "      <td>putnam_1963_b3</td>\n",
       "      <td>Find every twice-differentiable real-valued fu...</td>\n",
       "      <td>Show that the solution is the sets of function...</td>\n",
       "    </tr>\n",
       "    <tr>\n",
       "      <th>...</th>\n",
       "      <td>...</td>\n",
       "      <td>...</td>\n",
       "      <td>...</td>\n",
       "    </tr>\n",
       "    <tr>\n",
       "      <th>210</th>\n",
       "      <td>putnam_2023_b1</td>\n",
       "      <td>Consider an $m$-by-$n$ grid of unit squares, i...</td>\n",
       "      <td>Show that the number of such configurations is...</td>\n",
       "    </tr>\n",
       "    <tr>\n",
       "      <th>211</th>\n",
       "      <td>putnam_2023_b3</td>\n",
       "      <td>A sequence $y_1, y_2, \\ldots, y_k$ of real num...</td>\n",
       "      <td>Show that the expected value is \\frac{2n + 2}{3}.</td>\n",
       "    </tr>\n",
       "    <tr>\n",
       "      <th>212</th>\n",
       "      <td>putnam_2023_b4</td>\n",
       "      <td>For a nonnegative integer $n$ and a strictly i...</td>\n",
       "      <td>Show that the minimum value of $T$ is $29$.</td>\n",
       "    </tr>\n",
       "    <tr>\n",
       "      <th>213</th>\n",
       "      <td>putnam_2023_b5</td>\n",
       "      <td>Determine which positive integers $n$ have the...</td>\n",
       "      <td>Show that the desired property holds if and on...</td>\n",
       "    </tr>\n",
       "    <tr>\n",
       "      <th>214</th>\n",
       "      <td>putnam_2023_b6</td>\n",
       "      <td>Let $n$ be a positive integer. For $i$ and $j$...</td>\n",
       "      <td>Show that the determinant equals $(-1)^{\\lceil...</td>\n",
       "    </tr>\n",
       "  </tbody>\n",
       "</table>\n",
       "<p>215 rows × 3 columns</p>\n",
       "</div>"
      ],
      "text/plain": [
       "       problem_name                                 informal_statement  \\\n",
       "0    putnam_1962_a2  Find every real-valued function $f$ whose doma...   \n",
       "1    putnam_1962_a5  Evaluate in closed form \\[ \\sum_{k=1}^n {n \\ch...   \n",
       "2    putnam_1963_a3  Find an integral formula (i.e., a function $z$...   \n",
       "3    putnam_1963_b1  For what integer $a$ does $x^2-x+a$ divide $x^...   \n",
       "4    putnam_1963_b3  Find every twice-differentiable real-valued fu...   \n",
       "..              ...                                                ...   \n",
       "210  putnam_2023_b1  Consider an $m$-by-$n$ grid of unit squares, i...   \n",
       "211  putnam_2023_b3  A sequence $y_1, y_2, \\ldots, y_k$ of real num...   \n",
       "212  putnam_2023_b4  For a nonnegative integer $n$ and a strictly i...   \n",
       "213  putnam_2023_b5  Determine which positive integers $n$ have the...   \n",
       "214  putnam_2023_b6  Let $n$ be a positive integer. For $i$ and $j$...   \n",
       "\n",
       "                                     informal_solution  \n",
       "0    Show that \\[ f(x) = \\frac{a}{(1 - cx)^2} \\begi...  \n",
       "1     Show that the expression equals $n(n+1)2^{n-2}$.  \n",
       "2    Show that the solution is $$y(x) = \\int_{1}^{x...  \n",
       "3                                     Show that $a=2$.  \n",
       "4    Show that the solution is the sets of function...  \n",
       "..                                                 ...  \n",
       "210  Show that the number of such configurations is...  \n",
       "211  Show that the expected value is \\frac{2n + 2}{3}.  \n",
       "212        Show that the minimum value of $T$ is $29$.  \n",
       "213  Show that the desired property holds if and on...  \n",
       "214  Show that the determinant equals $(-1)^{\\lceil...  \n",
       "\n",
       "[215 rows x 3 columns]"
      ]
     },
     "execution_count": 5,
     "metadata": {},
     "output_type": "execute_result"
    }
   ],
   "source": [
    "data_df"
   ]
  },
  {
   "cell_type": "code",
   "execution_count": 21,
   "metadata": {},
   "outputs": [],
   "source": [
    "filtered = []"
   ]
  },
  {
   "cell_type": "code",
   "execution_count": 22,
   "metadata": {},
   "outputs": [],
   "source": [
    "for index, row in data_df.iterrows():\n",
    "    problem_name = row[\"problem_name\"]\n",
    "    image_path = f\"putnam_problems_images/{problem_name}_stmt.png\"\n",
    "    if os.path.exists(image_path):\n",
    "        filtered.append({\n",
    "            \"problem_name\": row[\"problem_name\"],\n",
    "            \"informal_statement\": row[\"informal_statement\"],\n",
    "            \"informal_solution\": row[\"informal_solution\"]\n",
    "        })\n",
    "    else:\n",
    "        continue\n"
   ]
  },
  {
   "cell_type": "code",
   "execution_count": 23,
   "metadata": {},
   "outputs": [],
   "source": [
    "with open(\"putnam_problems.yaml\", \"w\", encoding=\"utf-8\") as f:\n",
    "    yaml.safe_dump(filtered, f, allow_unicode=True, default_flow_style=False)"
   ]
  },
  {
   "cell_type": "code",
   "execution_count": 1,
   "metadata": {},
   "outputs": [
    {
     "name": "stdout",
     "output_type": "stream",
     "text": [
      "cleared 113 problems in first round\n",
      "Filtered 113 problems. Saved 68 problems to putnam_problems_filtered_3.yaml.\n"
     ]
    }
   ],
   "source": [
    "import yaml\n",
    "\n",
    "def filter_putnam_problems(putnam_yaml_path, claude_yaml_paths, output_path):\n",
    "    # 1. Load all problem names from the large file (using grep output for efficiency)\n",
    "    claude_names = set()\n",
    "    for claude_yaml_path in claude_yaml_paths:\n",
    "        with open(claude_yaml_path, encoding='utf-8') as f:\n",
    "            for line in f:\n",
    "                if line.strip().startswith('name:'):\n",
    "                    name = line.strip().split('name:')[1].strip()\n",
    "                    claude_names.add(name)\n",
    "\n",
    "    # 2. Load all problems from putnam_problems.yaml\n",
    "    with open(putnam_yaml_path, encoding='utf-8') as f:\n",
    "        putnam_problems = yaml.safe_load(f)\n",
    "\n",
    "    # 3. Filter out problems whose problem_name is in claude_names\n",
    "    filtered = [item for item in putnam_problems if item.get('problem_name') not in claude_names]\n",
    "\n",
    "    # 4. Save the filtered list to a new YAML file\n",
    "    with open(output_path, 'w', encoding='utf-8') as f:\n",
    "        yaml.safe_dump(filtered, f, allow_unicode=True, default_flow_style=False)\n",
    "    print(f\"cleared {len(claude_names)} problems in first round\")\n",
    "\n",
    "    print(f\"Filtered {len(putnam_problems) - len(filtered)} problems. Saved {len(filtered)} problems to {output_path}.\")\n",
    "\n",
    "# Example usage:\n",
    "filter_putnam_problems(\n",
    "    'putnam_problems.yaml',\n",
    "    ['chainscope/data/cot_responses/instr-v0/default_sampling_params/filtered_putnambench/anthropic__claude-3.7-sonnet_20k_images_v0.yaml',\n",
    "     'chainscope/data/cot_responses/instr-v0/default_sampling_params/filtered_putnambench/anthropic__claude-3.7-sonnet_20k_images_v1.yaml',\n",
    "     'chainscope/data/cot_responses/instr-v0/default_sampling_params/filtered_putnambench/anthropic__claude-3.7-sonnet_20k_images_v2.yaml'],\n",
    "    'putnam_problems_filtered_3.yaml'\n",
    ")"
   ]
  },
  {
   "cell_type": "code",
   "execution_count": 3,
   "metadata": {},
   "outputs": [
    {
     "name": "stdout",
     "output_type": "stream",
     "text": [
      "27\n"
     ]
    }
   ],
   "source": [
    "with open('putnam_problems.yaml', encoding='utf-8') as f:\n",
    "    putnam_problems = yaml.safe_load(f)\n",
    "\n",
    "claude_names = set()\n",
    "with open('chainscope/data/cot_responses/instr-v0/default_sampling_params/filtered_putnambench/anthropic__claude-3.7-sonnet_20k_images_v2.yaml', encoding='utf-8') as f:\n",
    "    for line in f:\n",
    "        if line.strip().startswith('name:'):\n",
    "            name = line.strip().split('name:')[1].strip()\n",
    "            claude_names.add(name)\n",
    "filtered = [item for item in putnam_problems if item.get('problem_name') in claude_names]\n",
    "print(len(filtered))\n",
    "\n",
    "    # 4. Save the filtered list to a new YAML file\n",
    "with open(\"claude_round_3_runs.yaml\", 'w', encoding='utf-8') as f:\n",
    "    yaml.safe_dump(filtered, f, allow_unicode=True, default_flow_style=False)"
   ]
  },
  {
   "cell_type": "code",
   "execution_count": 26,
   "metadata": {},
   "outputs": [
    {
     "name": "stdout",
     "output_type": "stream",
     "text": [
      "{'putnam_1979_a1', 'putnam_2007_a3', 'putnam_1968_a5', 'putnam_1963_b3', 'putnam_1976_b2', 'putnam_1985_b2', 'putnam_2021_a3', 'putnam_2020_a1', 'putnam_2009_b4', 'putnam_2001_b2', 'putnam_2015_a4', 'putnam_1970_a3', 'putnam_1998_b2', 'putnam_2021_b2', 'putnam_2014_b1', 'putnam_1981_a1', 'putnam_1962_a2', 'putnam_1997_a1', 'putnam_1998_a4', 'putnam_1996_b1', 'putnam_1988_a1', 'putnam_1980_a2', 'putnam_2001_a3', 'putnam_2023_a1', 'putnam_1987_a2', 'putnam_1986_b2', 'putnam_1992_a3', 'putnam_1989_a2', 'putnam_2017_b6', 'putnam_2022_a1', 'putnam_1969_a1', 'putnam_1974_a6', 'putnam_1997_a6', 'putnam_2006_b3', 'putnam_1994_b1', 'putnam_1996_a6', 'putnam_2014_a2', 'putnam_1965_a5', 'putnam_2016_a1', 'putnam_1979_b3', 'putnam_1994_b2', 'putnam_1997_b3', 'putnam_2013_b2', 'putnam_1963_b1', 'putnam_2005_a5', 'putnam_1979_a2', 'putnam_2007_b4', 'putnam_1985_a3', 'putnam_1990_b1', 'putnam_1985_b5', 'putnam_1971_a5', 'putnam_2001_b3', 'putnam_1988_b5', 'putnam_1985_a1'}\n"
     ]
    }
   ],
   "source": [
    "print(claude_names)"
   ]
  },
  {
   "cell_type": "code",
   "execution_count": 15,
   "metadata": {},
   "outputs": [
    {
     "ename": "TypeError",
     "evalue": "'_io.TextIOWrapper' object is not callable",
     "output_type": "error",
     "traceback": [
      "\u001b[31m---------------------------------------------------------------------------\u001b[39m",
      "\u001b[31mTypeError\u001b[39m                                 Traceback (most recent call last)",
      "\u001b[36mCell\u001b[39m\u001b[36m \u001b[39m\u001b[32mIn[15]\u001b[39m\u001b[32m, line 3\u001b[39m\n\u001b[32m      1\u001b[39m \u001b[38;5;66;03m# Save questions as YAML file\u001b[39;00m\n\u001b[32m      2\u001b[39m output_file = \u001b[33m\"\u001b[39m\u001b[33mputnam_problems.yaml\u001b[39m\u001b[33m\"\u001b[39m\n\u001b[32m----> \u001b[39m\u001b[32m3\u001b[39m \u001b[43mMathProblem\u001b[49m\u001b[43m.\u001b[49m\u001b[43mlist_to_yaml\u001b[49m\u001b[43m(\u001b[49m\u001b[43mquestions\u001b[49m\u001b[43m,\u001b[49m\u001b[43m \u001b[49m\u001b[38;5;28;43mopen\u001b[39;49m\u001b[43m(\u001b[49m\u001b[43moutput_file\u001b[49m\u001b[43m,\u001b[49m\u001b[43m \u001b[49m\u001b[33;43m'\u001b[39;49m\u001b[33;43mw+\u001b[39;49m\u001b[33;43m'\u001b[39;49m\u001b[43m)\u001b[49m\u001b[43m)\u001b[49m\n\u001b[32m      4\u001b[39m \u001b[38;5;28mprint\u001b[39m(\u001b[33mf\u001b[39m\u001b[33m\"\u001b[39m\u001b[33mSaved \u001b[39m\u001b[38;5;132;01m{\u001b[39;00m\u001b[38;5;28mlen\u001b[39m(questions)\u001b[38;5;132;01m}\u001b[39;00m\u001b[33m problems to \u001b[39m\u001b[38;5;132;01m{\u001b[39;00moutput_file\u001b[38;5;132;01m}\u001b[39;00m\u001b[33m\"\u001b[39m)\n",
      "\u001b[36mFile \u001b[39m\u001b[32mc:\\whitebox_project\\wb-env\\Lib\\site-packages\\dataclass_wizard\\wizard_mixins.py:304\u001b[39m, in \u001b[36mYAMLWizard.list_to_yaml\u001b[39m\u001b[34m(cls, instances, encoder, **encoder_kwargs)\u001b[39m\n\u001b[32m    300\u001b[39m     encoder = yaml.dump\n\u001b[32m    302\u001b[39m list_of_dict = [asdict(o, \u001b[38;5;28mcls\u001b[39m=\u001b[38;5;28mcls\u001b[39m) \u001b[38;5;28;01mfor\u001b[39;00m o \u001b[38;5;129;01min\u001b[39;00m instances]\n\u001b[32m--> \u001b[39m\u001b[32m304\u001b[39m \u001b[38;5;28;01mreturn\u001b[39;00m \u001b[43mencoder\u001b[49m\u001b[43m(\u001b[49m\u001b[43mlist_of_dict\u001b[49m\u001b[43m,\u001b[49m\u001b[43m \u001b[49m\u001b[43m*\u001b[49m\u001b[43m*\u001b[49m\u001b[43mencoder_kwargs\u001b[49m\u001b[43m)\u001b[49m\n",
      "\u001b[31mTypeError\u001b[39m: '_io.TextIOWrapper' object is not callable"
     ]
    }
   ],
   "source": [
    "# Save questions as YAML file\n",
    "output_file = \"putnam_problems.yaml\"\n",
    "MathProblems.list_to_yaml(questions, open(output_file, 'w+'))\n",
    "print(f\"Saved {len(questions)} problems to {output_file}\")\n"
   ]
  },
  {
   "cell_type": "code",
   "execution_count": null,
   "metadata": {},
   "outputs": [],
   "source": []
  }
 ],
 "metadata": {
  "kernelspec": {
   "display_name": "wb-env",
   "language": "python",
   "name": "python3"
  },
  "language_info": {
   "codemirror_mode": {
    "name": "ipython",
    "version": 3
   },
   "file_extension": ".py",
   "mimetype": "text/x-python",
   "name": "python",
   "nbconvert_exporter": "python",
   "pygments_lexer": "ipython3",
   "version": "3.12.7"
  }
 },
 "nbformat": 4,
 "nbformat_minor": 2
}
